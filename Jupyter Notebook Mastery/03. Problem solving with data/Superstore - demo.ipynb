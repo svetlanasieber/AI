{
 "cells": [
  {
   "cell_type": "code",
   "execution_count": 1,
   "id": "eb55bc75",
   "metadata": {},
   "outputs": [],
   "source": [
    "%matplotlib inline\n",
    "import numpy as np\n",
    "import pandas as pd\n",
    "import matplotlib.pyplot as plt"
   ]
  },
  {
   "cell_type": "markdown",
   "id": "d70b63ac",
   "metadata": {},
   "source": [
    "# You have a problem!"
   ]
  },
  {
   "cell_type": "markdown",
   "id": "dcb67472",
   "metadata": {},
   "source": [
    "You are a **manager** of a multinational superstore selling different types of products.\n",
    "\n",
    "You have noticed a **decrease in expected profit** in the recent quarter.\n",
    "\n",
    "You want to **investigate** what is hapenning."
   ]
  },
  {
   "cell_type": "markdown",
   "id": "9c320a0a",
   "metadata": {},
   "source": [
    "### Let's import our data"
   ]
  },
  {
   "cell_type": "code",
   "execution_count": 2,
   "id": "35ec7a5a",
   "metadata": {},
   "outputs": [],
   "source": [
    "superstore_data = pd.read_csv('./data/superstore.csv')"
   ]
  },
  {
   "cell_type": "code",
   "execution_count": 3,
   "id": "10323c75",
   "metadata": {},
   "outputs": [
    {
     "data": {
      "text/plain": [
       "Index(['Category', 'City', 'Country', 'Customer.ID', 'Customer.Name',\n",
       "       'Discount', 'Market', '记录数', 'Order.Date', 'Order.ID', 'Order.Priority',\n",
       "       'Product.ID', 'Product.Name', 'Profit', 'Quantity', 'Region', 'Row.ID',\n",
       "       'Sales', 'Segment', 'Ship.Date', 'Ship.Mode', 'Shipping.Cost', 'State',\n",
       "       'Sub.Category', 'Year', 'Market2', 'weeknum'],\n",
       "      dtype='object')"
      ]
     },
     "execution_count": 3,
     "metadata": {},
     "output_type": "execute_result"
    }
   ],
   "source": [
    "superstore_data.columns"
   ]
  },
  {
   "cell_type": "markdown",
   "id": "e15f5b5a",
   "metadata": {},
   "source": [
    "Let's turn our columns' letters to lowercase and replace **\".\"** with **\"_\"**."
   ]
  },
  {
   "cell_type": "code",
   "execution_count": 4,
   "id": "87aa4f9d",
   "metadata": {},
   "outputs": [
    {
     "data": {
      "text/plain": [
       "Index(['category', 'city', 'country', 'customer_id', 'customer_name',\n",
       "       'discount', 'market', '记录数', 'order_date', 'order_id', 'order_priority',\n",
       "       'product_id', 'product_name', 'profit', 'quantity', 'region', 'row_id',\n",
       "       'sales', 'segment', 'ship_date', 'ship_mode', 'shipping_cost', 'state',\n",
       "       'sub_category', 'year', 'market2', 'weeknum'],\n",
       "      dtype='object')"
      ]
     },
     "execution_count": 4,
     "metadata": {},
     "output_type": "execute_result"
    }
   ],
   "source": [
    "superstore_data.columns = superstore_data.columns.str.lower() # columns to lowercase\n",
    "superstore_data.columns = superstore_data.columns.str.replace('.', '_')\n",
    "superstore_data.columns"
   ]
  },
  {
   "cell_type": "markdown",
   "id": "bff84d99",
   "metadata": {},
   "source": [
    "# You have a hypothesis"
   ]
  },
  {
   "cell_type": "markdown",
   "id": "10263a06",
   "metadata": {},
   "source": [
    "More than 30% of the company's profit is coming from the USA.\n",
    "There must be a drop in sales there."
   ]
  },
  {
   "cell_type": "code",
   "execution_count": 5,
   "id": "c253f3b2",
   "metadata": {},
   "outputs": [],
   "source": [
    "profit_by_country = superstore_data[['country', 'profit']]"
   ]
  },
  {
   "cell_type": "code",
   "execution_count": 6,
   "id": "bb96ca20",
   "metadata": {},
   "outputs": [
    {
     "data": {
      "text/html": [
       "<div>\n",
       "<style scoped>\n",
       "    .dataframe tbody tr th:only-of-type {\n",
       "        vertical-align: middle;\n",
       "    }\n",
       "\n",
       "    .dataframe tbody tr th {\n",
       "        vertical-align: top;\n",
       "    }\n",
       "\n",
       "    .dataframe thead th {\n",
       "        text-align: right;\n",
       "    }\n",
       "</style>\n",
       "<table border=\"1\" class=\"dataframe\">\n",
       "  <thead>\n",
       "    <tr style=\"text-align: right;\">\n",
       "      <th></th>\n",
       "      <th>country</th>\n",
       "      <th>profit</th>\n",
       "    </tr>\n",
       "  </thead>\n",
       "  <tbody>\n",
       "    <tr>\n",
       "      <th>0</th>\n",
       "      <td>Afghanistan</td>\n",
       "      <td>5460.30000</td>\n",
       "    </tr>\n",
       "    <tr>\n",
       "      <th>1</th>\n",
       "      <td>Albania</td>\n",
       "      <td>709.32000</td>\n",
       "    </tr>\n",
       "    <tr>\n",
       "      <th>2</th>\n",
       "      <td>Algeria</td>\n",
       "      <td>9106.50000</td>\n",
       "    </tr>\n",
       "    <tr>\n",
       "      <th>3</th>\n",
       "      <td>Angola</td>\n",
       "      <td>6494.97000</td>\n",
       "    </tr>\n",
       "    <tr>\n",
       "      <th>4</th>\n",
       "      <td>Argentina</td>\n",
       "      <td>-18693.79672</td>\n",
       "    </tr>\n",
       "    <tr>\n",
       "      <th>...</th>\n",
       "      <td>...</td>\n",
       "      <td>...</td>\n",
       "    </tr>\n",
       "    <tr>\n",
       "      <th>142</th>\n",
       "      <td>Venezuela</td>\n",
       "      <td>-11222.71044</td>\n",
       "    </tr>\n",
       "    <tr>\n",
       "      <th>143</th>\n",
       "      <td>Vietnam</td>\n",
       "      <td>-1870.23060</td>\n",
       "    </tr>\n",
       "    <tr>\n",
       "      <th>144</th>\n",
       "      <td>Yemen</td>\n",
       "      <td>-3706.45800</td>\n",
       "    </tr>\n",
       "    <tr>\n",
       "      <th>145</th>\n",
       "      <td>Zambia</td>\n",
       "      <td>7001.73000</td>\n",
       "    </tr>\n",
       "    <tr>\n",
       "      <th>146</th>\n",
       "      <td>Zimbabwe</td>\n",
       "      <td>-5428.78500</td>\n",
       "    </tr>\n",
       "  </tbody>\n",
       "</table>\n",
       "<p>147 rows × 2 columns</p>\n",
       "</div>"
      ],
      "text/plain": [
       "         country       profit\n",
       "0    Afghanistan   5460.30000\n",
       "1        Albania    709.32000\n",
       "2        Algeria   9106.50000\n",
       "3         Angola   6494.97000\n",
       "4      Argentina -18693.79672\n",
       "..           ...          ...\n",
       "142    Venezuela -11222.71044\n",
       "143      Vietnam  -1870.23060\n",
       "144        Yemen  -3706.45800\n",
       "145       Zambia   7001.73000\n",
       "146     Zimbabwe  -5428.78500\n",
       "\n",
       "[147 rows x 2 columns]"
      ]
     },
     "execution_count": 6,
     "metadata": {},
     "output_type": "execute_result"
    }
   ],
   "source": [
    "profit_by_country = profit_by_country.groupby(by='country').sum().reset_index()\n",
    "profit_by_country"
   ]
  },
  {
   "cell_type": "code",
   "execution_count": 7,
   "id": "c9fa86e5",
   "metadata": {},
   "outputs": [
    {
     "data": {
      "text/html": [
       "<div>\n",
       "<style scoped>\n",
       "    .dataframe tbody tr th:only-of-type {\n",
       "        vertical-align: middle;\n",
       "    }\n",
       "\n",
       "    .dataframe tbody tr th {\n",
       "        vertical-align: top;\n",
       "    }\n",
       "\n",
       "    .dataframe thead th {\n",
       "        text-align: right;\n",
       "    }\n",
       "</style>\n",
       "<table border=\"1\" class=\"dataframe\">\n",
       "  <thead>\n",
       "    <tr style=\"text-align: right;\">\n",
       "      <th></th>\n",
       "      <th>country</th>\n",
       "      <th>profit</th>\n",
       "    </tr>\n",
       "  </thead>\n",
       "  <tbody>\n",
       "    <tr>\n",
       "      <th>139</th>\n",
       "      <td>United States</td>\n",
       "      <td>286397.0217</td>\n",
       "    </tr>\n",
       "    <tr>\n",
       "      <th>26</th>\n",
       "      <td>China</td>\n",
       "      <td>150683.0850</td>\n",
       "    </tr>\n",
       "    <tr>\n",
       "      <th>57</th>\n",
       "      <td>India</td>\n",
       "      <td>129071.8350</td>\n",
       "    </tr>\n",
       "    <tr>\n",
       "      <th>138</th>\n",
       "      <td>United Kingdom</td>\n",
       "      <td>111900.1500</td>\n",
       "    </tr>\n",
       "    <tr>\n",
       "      <th>44</th>\n",
       "      <td>France</td>\n",
       "      <td>109029.0030</td>\n",
       "    </tr>\n",
       "    <tr>\n",
       "      <th>...</th>\n",
       "      <td>...</td>\n",
       "      <td>...</td>\n",
       "    </tr>\n",
       "    <tr>\n",
       "      <th>96</th>\n",
       "      <td>Pakistan</td>\n",
       "      <td>-22446.6480</td>\n",
       "    </tr>\n",
       "    <tr>\n",
       "      <th>54</th>\n",
       "      <td>Honduras</td>\n",
       "      <td>-29482.3714</td>\n",
       "    </tr>\n",
       "    <tr>\n",
       "      <th>90</th>\n",
       "      <td>Netherlands</td>\n",
       "      <td>-41070.0750</td>\n",
       "    </tr>\n",
       "    <tr>\n",
       "      <th>94</th>\n",
       "      <td>Nigeria</td>\n",
       "      <td>-80750.7180</td>\n",
       "    </tr>\n",
       "    <tr>\n",
       "      <th>133</th>\n",
       "      <td>Turkey</td>\n",
       "      <td>-98447.2320</td>\n",
       "    </tr>\n",
       "  </tbody>\n",
       "</table>\n",
       "<p>147 rows × 2 columns</p>\n",
       "</div>"
      ],
      "text/plain": [
       "            country       profit\n",
       "139   United States  286397.0217\n",
       "26            China  150683.0850\n",
       "57            India  129071.8350\n",
       "138  United Kingdom  111900.1500\n",
       "44           France  109029.0030\n",
       "..              ...          ...\n",
       "96         Pakistan  -22446.6480\n",
       "54         Honduras  -29482.3714\n",
       "90      Netherlands  -41070.0750\n",
       "94          Nigeria  -80750.7180\n",
       "133          Turkey  -98447.2320\n",
       "\n",
       "[147 rows x 2 columns]"
      ]
     },
     "execution_count": 7,
     "metadata": {},
     "output_type": "execute_result"
    }
   ],
   "source": [
    "profit_by_country = profit_by_country.sort_values(by='profit', ascending=False)\n",
    "profit_by_country"
   ]
  },
  {
   "cell_type": "code",
   "execution_count": 8,
   "id": "8d454d89",
   "metadata": {},
   "outputs": [
    {
     "data": {
      "text/html": [
       "<div>\n",
       "<style scoped>\n",
       "    .dataframe tbody tr th:only-of-type {\n",
       "        vertical-align: middle;\n",
       "    }\n",
       "\n",
       "    .dataframe tbody tr th {\n",
       "        vertical-align: top;\n",
       "    }\n",
       "\n",
       "    .dataframe thead th {\n",
       "        text-align: right;\n",
       "    }\n",
       "</style>\n",
       "<table border=\"1\" class=\"dataframe\">\n",
       "  <thead>\n",
       "    <tr style=\"text-align: right;\">\n",
       "      <th></th>\n",
       "      <th>country</th>\n",
       "      <th>profit</th>\n",
       "    </tr>\n",
       "  </thead>\n",
       "  <tbody>\n",
       "    <tr>\n",
       "      <th>139</th>\n",
       "      <td>United States</td>\n",
       "      <td>286397.0217</td>\n",
       "    </tr>\n",
       "    <tr>\n",
       "      <th>26</th>\n",
       "      <td>China</td>\n",
       "      <td>150683.0850</td>\n",
       "    </tr>\n",
       "    <tr>\n",
       "      <th>57</th>\n",
       "      <td>India</td>\n",
       "      <td>129071.8350</td>\n",
       "    </tr>\n",
       "    <tr>\n",
       "      <th>138</th>\n",
       "      <td>United Kingdom</td>\n",
       "      <td>111900.1500</td>\n",
       "    </tr>\n",
       "    <tr>\n",
       "      <th>44</th>\n",
       "      <td>France</td>\n",
       "      <td>109029.0030</td>\n",
       "    </tr>\n",
       "  </tbody>\n",
       "</table>\n",
       "</div>"
      ],
      "text/plain": [
       "            country       profit\n",
       "139   United States  286397.0217\n",
       "26            China  150683.0850\n",
       "57            India  129071.8350\n",
       "138  United Kingdom  111900.1500\n",
       "44           France  109029.0030"
      ]
     },
     "execution_count": 8,
     "metadata": {},
     "output_type": "execute_result"
    }
   ],
   "source": [
    "top_5_countries_by_profit = profit_by_country.head(5)\n",
    "top_5_countries_by_profit"
   ]
  },
  {
   "cell_type": "code",
   "execution_count": 9,
   "id": "d668c9df",
   "metadata": {},
   "outputs": [
    {
     "data": {
      "image/png": "[encoded data removed]",
      "text/plain": [
       "<Figure size 640x480 with 1 Axes>"
      ]
     },
     "metadata": {},
     "output_type": "display_data"
    }
   ],
   "source": [
    "plt.bar(top_5_countries_by_profit.country, top_5_countries_by_profit.profit)\n",
    "plt.xlabel('Country')\n",
    "plt.ylabel('Profit')\n",
    "plt.title('Profit by country')\n",
    "plt.show()"
   ]
  },
  {
   "cell_type": "code",
   "execution_count": 10,
   "id": "19aebb11",
   "metadata": {},
   "outputs": [],
   "source": [
    "USA_profit = profit_by_country[profit_by_country.country == 'United States'].profit\n",
    "total_profit = superstore_data.profit.sum()\n",
    "USA_relative_share = (USA_profit / total_profit).iloc[0]"
   ]
  },
  {
   "cell_type": "code",
   "execution_count": 11,
   "id": "5161405f",
   "metadata": {},
   "outputs": [
    {
     "name": "stdout",
     "output_type": "stream",
     "text": [
      "USA relative share: 0.1952\n"
     ]
    }
   ],
   "source": [
    "print(f'USA relative share: {USA_relative_share:.4f}')"
   ]
  },
  {
   "cell_type": "markdown",
   "id": "324c1760",
   "metadata": {},
   "source": [
    "Okay, but let's have a look at sales..."
   ]
  },
  {
   "cell_type": "code",
   "execution_count": 12,
   "id": "b959a8b8",
   "metadata": {},
   "outputs": [],
   "source": [
    "sales_by_country = superstore_data[['country', 'sales']]"
   ]
  },
  {
   "cell_type": "code",
   "execution_count": 13,
   "id": "3b766943",
   "metadata": {},
   "outputs": [
    {
     "data": {
      "text/html": [
       "<div>\n",
       "<style scoped>\n",
       "    .dataframe tbody tr th:only-of-type {\n",
       "        vertical-align: middle;\n",
       "    }\n",
       "\n",
       "    .dataframe tbody tr th {\n",
       "        vertical-align: top;\n",
       "    }\n",
       "\n",
       "    .dataframe thead th {\n",
       "        text-align: right;\n",
       "    }\n",
       "</style>\n",
       "<table border=\"1\" class=\"dataframe\">\n",
       "  <thead>\n",
       "    <tr style=\"text-align: right;\">\n",
       "      <th></th>\n",
       "      <th>country</th>\n",
       "      <th>sales</th>\n",
       "    </tr>\n",
       "  </thead>\n",
       "  <tbody>\n",
       "    <tr>\n",
       "      <th>0</th>\n",
       "      <td>United States</td>\n",
       "      <td>19</td>\n",
       "    </tr>\n",
       "    <tr>\n",
       "      <th>1</th>\n",
       "      <td>United States</td>\n",
       "      <td>19</td>\n",
       "    </tr>\n",
       "    <tr>\n",
       "      <th>2</th>\n",
       "      <td>United States</td>\n",
       "      <td>21</td>\n",
       "    </tr>\n",
       "    <tr>\n",
       "      <th>3</th>\n",
       "      <td>United States</td>\n",
       "      <td>111</td>\n",
       "    </tr>\n",
       "    <tr>\n",
       "      <th>4</th>\n",
       "      <td>United States</td>\n",
       "      <td>6</td>\n",
       "    </tr>\n",
       "    <tr>\n",
       "      <th>...</th>\n",
       "      <td>...</td>\n",
       "      <td>...</td>\n",
       "    </tr>\n",
       "    <tr>\n",
       "      <th>51285</th>\n",
       "      <td>United States</td>\n",
       "      <td>69</td>\n",
       "    </tr>\n",
       "    <tr>\n",
       "      <th>51286</th>\n",
       "      <td>United States</td>\n",
       "      <td>9</td>\n",
       "    </tr>\n",
       "    <tr>\n",
       "      <th>51287</th>\n",
       "      <td>United States</td>\n",
       "      <td>12</td>\n",
       "    </tr>\n",
       "    <tr>\n",
       "      <th>51288</th>\n",
       "      <td>United States</td>\n",
       "      <td>90</td>\n",
       "    </tr>\n",
       "    <tr>\n",
       "      <th>51289</th>\n",
       "      <td>United States</td>\n",
       "      <td>154</td>\n",
       "    </tr>\n",
       "  </tbody>\n",
       "</table>\n",
       "<p>51290 rows × 2 columns</p>\n",
       "</div>"
      ],
      "text/plain": [
       "             country  sales\n",
       "0      United States     19\n",
       "1      United States     19\n",
       "2      United States     21\n",
       "3      United States    111\n",
       "4      United States      6\n",
       "...              ...    ...\n",
       "51285  United States     69\n",
       "51286  United States      9\n",
       "51287  United States     12\n",
       "51288  United States     90\n",
       "51289  United States    154\n",
       "\n",
       "[51290 rows x 2 columns]"
      ]
     },
     "execution_count": 13,
     "metadata": {},
     "output_type": "execute_result"
    }
   ],
   "source": [
    "sales_by_country"
   ]
  },
  {
   "cell_type": "code",
   "execution_count": 14,
   "id": "0be5fecf",
   "metadata": {},
   "outputs": [],
   "source": [
    "sales_by_country = sales_by_country.groupby(by='country').sum().reset_index()"
   ]
  },
  {
   "cell_type": "code",
   "execution_count": 15,
   "id": "0088ef96",
   "metadata": {},
   "outputs": [
    {
     "data": {
      "text/html": [
       "<div>\n",
       "<style scoped>\n",
       "    .dataframe tbody tr th:only-of-type {\n",
       "        vertical-align: middle;\n",
       "    }\n",
       "\n",
       "    .dataframe tbody tr th {\n",
       "        vertical-align: top;\n",
       "    }\n",
       "\n",
       "    .dataframe thead th {\n",
       "        text-align: right;\n",
       "    }\n",
       "</style>\n",
       "<table border=\"1\" class=\"dataframe\">\n",
       "  <thead>\n",
       "    <tr style=\"text-align: right;\">\n",
       "      <th></th>\n",
       "      <th>country</th>\n",
       "      <th>sales</th>\n",
       "    </tr>\n",
       "  </thead>\n",
       "  <tbody>\n",
       "    <tr>\n",
       "      <th>139</th>\n",
       "      <td>United States</td>\n",
       "      <td>2297354</td>\n",
       "    </tr>\n",
       "    <tr>\n",
       "      <th>6</th>\n",
       "      <td>Australia</td>\n",
       "      <td>925257</td>\n",
       "    </tr>\n",
       "    <tr>\n",
       "      <th>44</th>\n",
       "      <td>France</td>\n",
       "      <td>858930</td>\n",
       "    </tr>\n",
       "    <tr>\n",
       "      <th>26</th>\n",
       "      <td>China</td>\n",
       "      <td>700591</td>\n",
       "    </tr>\n",
       "    <tr>\n",
       "      <th>47</th>\n",
       "      <td>Germany</td>\n",
       "      <td>628857</td>\n",
       "    </tr>\n",
       "  </tbody>\n",
       "</table>\n",
       "</div>"
      ],
      "text/plain": [
       "           country    sales\n",
       "139  United States  2297354\n",
       "6        Australia   925257\n",
       "44          France   858930\n",
       "26           China   700591\n",
       "47         Germany   628857"
      ]
     },
     "execution_count": 15,
     "metadata": {},
     "output_type": "execute_result"
    }
   ],
   "source": [
    "top_5_countries_by_sales = sales_by_country.sort_values(by='sales', ascending=False).head(5)\n",
    "top_5_countries_by_sales"
   ]
  },
  {
   "cell_type": "code",
   "execution_count": 16,
   "id": "5310877c",
   "metadata": {},
   "outputs": [
    {
     "data": {
      "text/html": [
       "<div>\n",
       "<style scoped>\n",
       "    .dataframe tbody tr th:only-of-type {\n",
       "        vertical-align: middle;\n",
       "    }\n",
       "\n",
       "    .dataframe tbody tr th {\n",
       "        vertical-align: top;\n",
       "    }\n",
       "\n",
       "    .dataframe thead th {\n",
       "        text-align: right;\n",
       "    }\n",
       "</style>\n",
       "<table border=\"1\" class=\"dataframe\">\n",
       "  <thead>\n",
       "    <tr style=\"text-align: right;\">\n",
       "      <th></th>\n",
       "      <th>country</th>\n",
       "      <th>profit</th>\n",
       "    </tr>\n",
       "  </thead>\n",
       "  <tbody>\n",
       "    <tr>\n",
       "      <th>139</th>\n",
       "      <td>United States</td>\n",
       "      <td>286397.0217</td>\n",
       "    </tr>\n",
       "    <tr>\n",
       "      <th>26</th>\n",
       "      <td>China</td>\n",
       "      <td>150683.0850</td>\n",
       "    </tr>\n",
       "    <tr>\n",
       "      <th>57</th>\n",
       "      <td>India</td>\n",
       "      <td>129071.8350</td>\n",
       "    </tr>\n",
       "    <tr>\n",
       "      <th>138</th>\n",
       "      <td>United Kingdom</td>\n",
       "      <td>111900.1500</td>\n",
       "    </tr>\n",
       "    <tr>\n",
       "      <th>44</th>\n",
       "      <td>France</td>\n",
       "      <td>109029.0030</td>\n",
       "    </tr>\n",
       "  </tbody>\n",
       "</table>\n",
       "</div>"
      ],
      "text/plain": [
       "            country       profit\n",
       "139   United States  286397.0217\n",
       "26            China  150683.0850\n",
       "57            India  129071.8350\n",
       "138  United Kingdom  111900.1500\n",
       "44           France  109029.0030"
      ]
     },
     "execution_count": 16,
     "metadata": {},
     "output_type": "execute_result"
    }
   ],
   "source": [
    "top_5_countries_by_profit"
   ]
  },
  {
   "cell_type": "markdown",
   "id": "fe16def1",
   "metadata": {},
   "source": [
    "Hmm, Australia seems to have a lot of revenue, but no profit..."
   ]
  },
  {
   "cell_type": "code",
   "execution_count": 17,
   "id": "f6168e52",
   "metadata": {},
   "outputs": [],
   "source": [
    "Australia_profit = profit_by_country[profit_by_country.country == 'Australia'].profit.values\n",
    "Australia_sales = sales_by_country[sales_by_country.country == 'Australia'].sales.values\n",
    "Australia_profit_margin = Australia_profit / Australia_sales"
   ]
  },
  {
   "cell_type": "code",
   "execution_count": 18,
   "id": "ac204889",
   "metadata": {},
   "outputs": [
    {
     "name": "stdout",
     "output_type": "stream",
     "text": [
      "Australia's profit margin [0.11230116]\n"
     ]
    }
   ],
   "source": [
    "print(f'Australia\\'s profit margin {Australia_profit_margin}')"
   ]
  },
  {
   "cell_type": "code",
   "execution_count": 19,
   "id": "932677d0",
   "metadata": {},
   "outputs": [],
   "source": [
    "profit_by_country = profit_by_country.sort_values(by='country')\n",
    "sales_by_country = sales_by_country.sort_values(by='country')"
   ]
  },
  {
   "cell_type": "code",
   "execution_count": 20,
   "id": "6c746145",
   "metadata": {},
   "outputs": [],
   "source": [
    "profit_margin = profit_by_country.profit.values / sales_by_country.sales.values"
   ]
  },
  {
   "cell_type": "code",
   "execution_count": 21,
   "id": "9914741d",
   "metadata": {},
   "outputs": [
    {
     "data": {
      "text/plain": [
       "0.23406218840440465"
      ]
     },
     "execution_count": 21,
     "metadata": {},
     "output_type": "execute_result"
    }
   ],
   "source": [
    "profit_margin[profit_margin >= 0].mean()"
   ]
  },
  {
   "cell_type": "markdown",
   "id": "04f62c79",
   "metadata": {},
   "source": [
    "# Conclusion"
   ]
  },
  {
   "cell_type": "markdown",
   "id": "586b9c04",
   "metadata": {},
   "source": [
    "We established the following:\n",
    "- yes, USA is a big contributer to our profit, but no problem constituted there\n",
    "- Australia seems to have quite a lot of sales, but low profit margin (12% lower than the average)\n",
    "- Australia is having costs issues\n",
    "- we should adjust our policies in Australia"
   ]
  }
 ],
 "metadata": {
  "kernelspec": {
   "display_name": "Python 3 (ipykernel)",
   "language": "python",
   "name": "python3"
  },
  "language_info": {
   "codemirror_mode": {
    "name": "ipython",
    "version": 3
   },
   "file_extension": ".py",
   "mimetype": "text/x-python",
   "name": "python",
   "nbconvert_exporter": "python",
   "pygments_lexer": "ipython3",
   "version": "3.11.2"
  }
 },
 "nbformat": 4,
 "nbformat_minor": 5
}
